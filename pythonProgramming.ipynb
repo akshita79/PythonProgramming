{
  "nbformat": 4,
  "nbformat_minor": 0,
  "metadata": {
    "colab": {
      "provenance": [],
      "authorship_tag": "ABX9TyNCwiPSGBW43dieiPC3XHf7",
      "include_colab_link": true
    },
    "kernelspec": {
      "name": "python3",
      "display_name": "Python 3"
    },
    "language_info": {
      "name": "python"
    }
  },
  "cells": [
    {
      "cell_type": "markdown",
      "metadata": {
        "id": "view-in-github",
        "colab_type": "text"
      },
      "source": [
        "<a href=\"https://colab.research.google.com/github/akshita79/PythonProgramming/blob/main/pythonProgramming.ipynb\" target=\"_parent\"><img src=\"https://colab.research.google.com/assets/colab-badge.svg\" alt=\"Open In Colab\"/></a>"
      ]
    },
    {
      "cell_type": "markdown",
      "source": [
        "## QUESTION 1 \n",
        "(i) WAP to add 50 and 60 to L. \n",
        "\n",
        "(ii) WAP to remove 11 and 13from L.\n",
        "\n",
        "(iii) WAP to sort L in ascending order.\n",
        "\n",
        "(iv) WAP to sort L in descending order.\n",
        "\n",
        "(v) WAP to search for 13 in L.\n",
        "\n",
        "(vi) WAP to count the number of elements present in L.\n",
        "\n",
        "(vii) WAP to sum all the elements in L.\n",
        "\n",
        "(viii) WAP to sum all ODD numbers in L.\n",
        "\n",
        "(ix) WAP to sum all EVEN numbers in L.\n",
        "\n",
        "(x) WAP to sum all PRIME numbers in L.\n",
        "\n",
        "(xi) WAP to clear all the elements in L.\n",
        "\n",
        "(xii) WAP to delete L."
      ],
      "metadata": {
        "id": "iNVjXbXSMDBW"
      }
    },
    {
      "cell_type": "code",
      "execution_count": null,
      "metadata": {
        "colab": {
          "base_uri": "https://localhost:8080/"
        },
        "id": "21eE-6vFL36U",
        "outputId": "ba8c77a8-5cd2-49e2-95db-a1ab2241d709"
      },
      "outputs": [
        {
          "output_type": "stream",
          "name": "stdout",
          "text": [
            "[11, 12, 13, 14, 50, 60]\n",
            "[12, 14]\n",
            "[11, 12, 13, 14]\n",
            "[14, 13, 12, 11]\n",
            "13 is present in the list.\n",
            "Number of elements in L: 4\n",
            "Sum of elements in L: 50\n",
            "Sum of odd numbers in L: 24\n",
            "Sum of even numbers in L: 26\n",
            "Sum of prime numbers in L: 24\n",
            "[]\n"
          ]
        }
      ],
      "source": [
        "#1 \n",
        "L = [11, 12, 13, 14]\n",
        "L.append(50)\n",
        "L.append(60)\n",
        "print(L)\n",
        "\n",
        "#2\n",
        "L = [11, 12, 13, 14]\n",
        "L.remove(11)\n",
        "L.remove(13)\n",
        "print(L)\n",
        "\n",
        "#3\n",
        "L = [11, 12, 13, 14]\n",
        "L.sort()\n",
        "print(L)\n",
        "\n",
        "#4\n",
        "L = [11, 12, 13, 14]\n",
        "L.sort(reverse=True)\n",
        "print(L)\n",
        "\n",
        "#5\n",
        "L = [11, 12, 13, 14]\n",
        "if 13 in L:\n",
        "    print(\"13 is present in the list.\")\n",
        "else:\n",
        "    print(\"13 is not present in the list.\")\n",
        "  \n",
        "\n",
        "#6\n",
        "L = [11, 12, 13, 14]\n",
        "count = len(L)\n",
        "print(\"Number of elements in L:\", count)\n",
        "\n",
        "\n",
        "#7\n",
        "L = [11, 12, 13, 14]\n",
        "sum_of_elements = sum(L)\n",
        "print(\"Sum of elements in L:\", sum_of_elements)\n",
        "\n",
        "#8\n",
        "L = [11, 12, 13, 14]\n",
        "odd_sum = sum(num for num in L if num % 2 != 0)\n",
        "print(\"Sum of odd numbers in L:\", odd_sum)\n",
        "\n",
        "#9\n",
        "L = [11, 12, 13, 14]\n",
        "even_sum = sum(num for num in L if num % 2 == 0)\n",
        "print(\"Sum of even numbers in L:\", even_sum)\n",
        "\n",
        "#10\n",
        "L = [11, 12, 13, 14]\n",
        "def is_prime(n):\n",
        "    if n < 2:\n",
        "        return False\n",
        "    for i in range(2, int(n ** 0.5) + 1):\n",
        "        if n % i == 0:\n",
        "            return False\n",
        "    return True\n",
        "\n",
        "prime_sum = sum(num for num in L if is_prime(num))\n",
        "print(\"Sum of prime numbers in L:\", prime_sum)\n",
        "\n",
        "\n",
        "#11\n",
        "L = [11, 12, 13, 14]\n",
        "L.clear()\n",
        "print(L)\n",
        "\n",
        "#12\n",
        "L = [11, 12, 13, 14]\n",
        "del L\n",
        "\n"
      ]
    },
    {
      "cell_type": "markdown",
      "source": [
        "## QUESTON 2\n",
        "D is a dictionary defined as D= {1:5.6, 2:7.8, 3:6.6, 4:8.7, 5:7.7}.\n",
        "\n",
        "(i) WAP to add new entry in D; key=8 and value is 8.8\n",
        "\n",
        "(ii) WAP to remove key=2.\n",
        "\n",
        "(iii) WAP to check weather 6 key is present in D.\n",
        "\n",
        "(iv) WAP to count the number of elements present in D.\n",
        "\n",
        "(v) WAP to add all the values present D.\n",
        "\n",
        "(vi) WAP to update the value of 3 to 7.1.\n",
        "\n",
        "(vii) WAP to clear the dictionary."
      ],
      "metadata": {
        "id": "Ff4MdIcmNIml"
      }
    },
    {
      "cell_type": "code",
      "source": [
        "#1\n",
        "D = {1: 5.6, 2: 7.8, 3: 6.6, 4: 8.7, 5: 7.7}\n",
        "D[8] = 8.8\n",
        "print(D)\n",
        "\n",
        "#2\n",
        "D = {1: 5.6, 2: 7.8, 3: 6.6, 4: 8.7, 5: 7.7}\n",
        "del D[2]\n",
        "print(D)\n",
        "\n",
        "#3\n",
        "D = {1: 5.6, 2: 7.8, 3: 6.6, 4: 8.7, 5: 7.7}\n",
        "if 6 in D:\n",
        "    print(\"Key 6 is present in the dictionary.\")\n",
        "else:\n",
        "    print(\"Key 6 is not present in the dictionary.\")\n",
        "\n",
        "#4\n",
        "D = {1: 5.6, 2: 7.8, 3: 6.6, 4: 8.7, 5: 7.7}\n",
        "count = len(D)\n",
        "print(\"Number of elements in D:\", count)\n",
        "\n",
        "#5\n",
        "D = {1: 5.6, 2: 7.8, 3: 6.6, 4: 8.7, 5: 7.7}\n",
        "sum_of_values = sum(D.values())\n",
        "print(\"Sum of values in D:\", sum_of_values)\n",
        "\n",
        "#6\n",
        "D = {1: 5.6, 2: 7.8, 3: 6.6, 4: 8.7, 5: 7.7}\n",
        "D[3] = 7.1\n",
        "print(D)\n",
        "\n",
        "\n",
        "#7\n",
        "D = {1: 5.6, 2: 7.8, 3: 6.6, 4: 8.7, 5: 7.7}\n",
        "D.clear()\n",
        "print(D)\n",
        "\n",
        "#8\n",
        "D = {1: 5.6, 2: 7.8, 3: 6.6, 4: 8.7, 5: 7.7}\n",
        "D.clear()\n",
        "print(D)\n"
      ],
      "metadata": {
        "colab": {
          "base_uri": "https://localhost:8080/"
        },
        "id": "y-TWsqxyNRQu",
        "outputId": "7618a733-9f81-4852-f982-b69ea4eee636"
      },
      "execution_count": null,
      "outputs": [
        {
          "output_type": "stream",
          "name": "stdout",
          "text": [
            "{1: 5.6, 2: 7.8, 3: 6.6, 4: 8.7, 5: 7.7, 8: 8.8}\n",
            "{1: 5.6, 3: 6.6, 4: 8.7, 5: 7.7}\n",
            "Key 6 is not present in the dictionary.\n",
            "Number of elements in D: 5\n",
            "Sum of values in D: 36.4\n",
            "{1: 5.6, 2: 7.8, 3: 7.1, 4: 8.7, 5: 7.7}\n",
            "{}\n",
            "{}\n"
          ]
        }
      ]
    },
    {
      "cell_type": "markdown",
      "source": [
        "## QUESTION 3\n",
        " S1 is a set defined as S1= [10, 20, 30, 40, 50, 60].\n",
        "\n",
        " S2 is a set defined as S2= [40, 50, 60, 70, 80, 90].\n",
        "\n",
        "(i) WAP to add 55 and 66 in Set S1.\n",
        "\n",
        "(ii) WAP to remove 10 and 30 from Set S1.\n",
        "\n",
        "(iii) WAP to check whether 40 is present in S1.\n",
        "\n",
        "(iv) WAP to find the union between S1 and S2.\n",
        "\n",
        "(v) WAP to find the intersection between S1 and S2.\n",
        "\n",
        "(vi) WAP to find the S1 - S2."
      ],
      "metadata": {
        "id": "xCQo53LsNoDB"
      }
    },
    {
      "cell_type": "code",
      "source": [
        "#1\n",
        "S1 = {10, 20, 30, 40, 50, 60}\n",
        "S1.add(55)\n",
        "S1.add(66)\n",
        "print(S1)\n",
        "\n",
        "#2\n",
        "S1 = {10, 20, 30, 40, 50, 60}\n",
        "S1.remove(10)\n",
        "S1.remove(30)\n",
        "print(S1)\n",
        "\n",
        "#3\n",
        "S1 = {10, 20, 30, 40, 50, 60}\n",
        "if 40 in S1:\n",
        "    print(\"40 is present in S1.\")\n",
        "else:\n",
        "    print(\"40 is not present in S1.\")\n",
        "\n",
        "#4\n",
        "S1 = {10, 20, 30, 40, 50, 60}\n",
        "S2 = {40, 50, 60, 70, 80, 90}\n",
        "union_set = S1.union(S2)\n",
        "print(\"Union of S1 and S2:\", union_set)\n",
        "\n",
        "\n",
        "#5\n",
        "S1 = {10, 20, 30, 40, 50, 60}\n",
        "S2 = {40, 50, 60, 70, 80, 90}\n",
        "intersection_set = S1.intersection(S2)\n",
        "print(\"Intersection of S1 and S2:\", intersection_set)\n",
        "\n",
        "\n",
        "#6\n",
        "S1 = {10, 20, 30, 40, 50, 60}\n",
        "S2 = {40, 50, 60, 70, 80, 90}\n",
        "difference_set = S1.difference(S2)\n",
        "print(\"S1 - S2:\", difference_set)\n"
      ],
      "metadata": {
        "colab": {
          "base_uri": "https://localhost:8080/"
        },
        "id": "oqqIctj0NvLA",
        "outputId": "e51ac65c-b5f1-45b0-cea3-5bfbfa3034cf"
      },
      "execution_count": null,
      "outputs": [
        {
          "output_type": "stream",
          "name": "stdout",
          "text": [
            "{50, 66, 20, 55, 40, 10, 60, 30}\n",
            "{50, 20, 40, 60}\n",
            "40 is present in S1.\n",
            "Union of S1 and S2: {70, 40, 10, 80, 50, 20, 90, 60, 30}\n",
            "Intersection of S1 and S2: {40, 50, 60}\n",
            "S1 - S2: {10, 20, 30}\n"
          ]
        }
      ]
    },
    {
      "cell_type": "markdown",
      "source": [
        "## QUESTION 4\n",
        "Write the following program.\n",
        "\n",
        "(i) WAP to print 100 random strings whose length between 6 and 8.\n",
        "\n",
        "(ii) WAP to print all prime numbers between 600 and 800.\n",
        "\n",
        "(iii) WAP to print all numbers between 100 and 1000 that are divisible by 7 and 9"
      ],
      "metadata": {
        "id": "Pyao-USAODVV"
      }
    },
    {
      "cell_type": "code",
      "source": [
        "#1\n",
        "import random\n",
        "import string\n",
        "\n",
        "for _ in range(100):\n",
        "    length = random.randint(6, 8)\n",
        "    random_string = ''.join(random.choices(string.ascii_letters, k=length))\n",
        "    print(random_string)\n",
        "\n",
        "#2\n",
        "def is_prime(n):\n",
        "    if n < 2:\n",
        "        return False\n",
        "    for i in range(2, int(n**0.5) + 1):\n",
        "        if n % i == 0:\n",
        "            return False\n",
        "    return True\n",
        "\n",
        "for num in range(600, 801):\n",
        "    if is_prime(num):\n",
        "        print(num)\n",
        "#3\n",
        "for num in range(100, 1001):\n",
        "    if num % 7 == 0 and num % 9 == 0:\n",
        "        print(num)\n"
      ],
      "metadata": {
        "colab": {
          "base_uri": "https://localhost:8080/"
        },
        "id": "t6T1FtBeOLD4",
        "outputId": "63f8964d-d13b-4e1c-ec8e-eea952b56038"
      },
      "execution_count": null,
      "outputs": [
        {
          "output_type": "stream",
          "name": "stdout",
          "text": [
            "hCIIczMI\n",
            "PKvEin\n",
            "GMEDlaEc\n",
            "HFTfYqT\n",
            "XeKumbsH\n",
            "SdPhmjd\n",
            "NKmaTxO\n",
            "eRuZYxoH\n",
            "XWkYcxbJ\n",
            "SXPPMYR\n",
            "lLmZRSvK\n",
            "ZknTwd\n",
            "aoutmrpK\n",
            "Abpklyxy\n",
            "PlWDyP\n",
            "QGknkq\n",
            "UiBqyti\n",
            "qIpnVBlU\n",
            "VDVDTUz\n",
            "fMChZOrP\n",
            "PtOKwWkY\n",
            "fHdqwax\n",
            "aLvlfd\n",
            "PpkJEO\n",
            "MppqKYw\n",
            "pfPkNsjt\n",
            "jKawbbtU\n",
            "dNxfQNI\n",
            "xgkfkvM\n",
            "oWcmDW\n",
            "RjgNfZo\n",
            "WCFTSPRY\n",
            "sNuVeBk\n",
            "bLSuse\n",
            "EgFdteb\n",
            "MsKmOln\n",
            "LTDDJPQB\n",
            "ZfkSMXQy\n",
            "gtQgkoO\n",
            "GjnoYc\n",
            "esMoTDYm\n",
            "JUczOPQ\n",
            "zzQZZWom\n",
            "cNWdqjI\n",
            "HSlFSqzd\n",
            "iMSToNSR\n",
            "EvvaBT\n",
            "MRwFGek\n",
            "ESumoQ\n",
            "SWEtVxY\n",
            "wRyveHUe\n",
            "uwKBpWQF\n",
            "kzMhJS\n",
            "tAdcLV\n",
            "pIZVPVlY\n",
            "ABtdvvYd\n",
            "YxKcYihW\n",
            "NfQuvqd\n",
            "iGyFOL\n",
            "gfDETzBn\n",
            "oIvmySs\n",
            "wstptA\n",
            "CvQQXrys\n",
            "ZqLCnzPL\n",
            "pzxXyleB\n",
            "veBrzwm\n",
            "qknTYzlD\n",
            "kDkJBQ\n",
            "ZteFmB\n",
            "AxJpcLSG\n",
            "EffPaS\n",
            "bcqodaKZ\n",
            "aAfyogd\n",
            "QJHZeSk\n",
            "Dapypxz\n",
            "UaWtrE\n",
            "arLTznE\n",
            "dOndkh\n",
            "gmlpJB\n",
            "easCfq\n",
            "whTNyu\n",
            "FnsBGgso\n",
            "NeQXXlc\n",
            "YFbkbWq\n",
            "FzYVMa\n",
            "iuRqHaiI\n",
            "TROnUn\n",
            "PJuMBLpz\n",
            "sEuPxf\n",
            "gdbCbknZ\n",
            "JYeSEfaH\n",
            "gjPCsko\n",
            "VEzSCgd\n",
            "zjouIF\n",
            "Uznssekv\n",
            "rYrgbocu\n",
            "wPXHIKeo\n",
            "opDVtkUg\n",
            "IFXhMx\n",
            "NISXjlE\n",
            "601\n",
            "607\n",
            "613\n",
            "617\n",
            "619\n",
            "631\n",
            "641\n",
            "643\n",
            "647\n",
            "653\n",
            "659\n",
            "661\n",
            "673\n",
            "677\n",
            "683\n",
            "691\n",
            "701\n",
            "709\n",
            "719\n",
            "727\n",
            "733\n",
            "739\n",
            "743\n",
            "751\n",
            "757\n",
            "761\n",
            "769\n",
            "773\n",
            "787\n",
            "797\n",
            "126\n",
            "189\n",
            "252\n",
            "315\n",
            "378\n",
            "441\n",
            "504\n",
            "567\n",
            "630\n",
            "693\n",
            "756\n",
            "819\n",
            "882\n",
            "945\n"
          ]
        }
      ]
    },
    {
      "cell_type": "markdown",
      "source": [
        "## QUESTION 5\n",
        "WAP to create two lists of 10 random numbers between 10 and 30; Find \n",
        "\n",
        "(i) Common numbers in the two lists\n",
        "\n",
        "(ii) Unique numbers in both the list\n",
        "\n",
        "(iii) Minimum in both the list\n",
        "\n",
        "(iv) Maximum in both the list\n",
        "\n",
        "(v) Sum of both the lists"
      ],
      "metadata": {
        "id": "1mkEjbR3OeKh"
      }
    },
    {
      "cell_type": "code",
      "source": [
        "import random\n",
        "\n",
        "# Generate two lists of random numbers\n",
        "list1 = random.sample(range(10, 31), 10)\n",
        "list2 = random.sample(range(10, 31), 10)\n",
        "\n",
        "# Print the generated lists\n",
        "print(\"List 1:\", list1)\n",
        "print(\"List 2:\", list2)\n",
        "\n",
        "# Find common numbers in the two lists\n",
        "common_numbers = set(list1) & set(list2)\n",
        "print(\"Common numbers:\", common_numbers)\n",
        "\n",
        "# Find unique numbers in both lists\n",
        "unique_numbers = set(list1) ^ set(list2)\n",
        "print(\"Unique numbers:\", unique_numbers)\n",
        "\n",
        "# Find the minimum in both lists\n",
        "min_value = min(list1 + list2)\n",
        "print(\"Minimum value:\", min_value)\n",
        "\n",
        "# Find the maximum in both lists\n",
        "max_value = max(list1 + list2)\n",
        "print(\"Maximum value:\", max_value)\n",
        "\n",
        "# Find the sum of both lists\n",
        "sum_of_lists = sum(list1 + list2)\n",
        "print(\"Sum of both lists:\", sum_of_lists)\n"
      ],
      "metadata": {
        "colab": {
          "base_uri": "https://localhost:8080/"
        },
        "id": "87Dwwg7GOmDN",
        "outputId": "13b2e513-429f-4224-e0ab-22f8e457e70f"
      },
      "execution_count": null,
      "outputs": [
        {
          "output_type": "stream",
          "name": "stdout",
          "text": [
            "List 1: [25, 29, 21, 18, 14, 10, 12, 22, 16, 17]\n",
            "List 2: [27, 16, 19, 25, 14, 17, 22, 24, 21, 20]\n",
            "Common numbers: {14, 16, 17, 21, 22, 25}\n",
            "Unique numbers: {10, 12, 18, 19, 20, 24, 27, 29}\n",
            "Minimum value: 10\n",
            "Maximum value: 29\n",
            "Sum of both lists: 389\n"
          ]
        }
      ]
    },
    {
      "cell_type": "markdown",
      "source": [
        "## QUESTION 6\n",
        " \n",
        " WAP to create a list of 100 random numbers between 100 and 900. Count and print the: \n",
        "\n",
        "(i) All odd numbers\n",
        "\n",
        "(ii) All even numbers\n",
        "\n",
        "(iii) All prime numbers\n"
      ],
      "metadata": {
        "id": "8aGhZOQfOuGq"
      }
    },
    {
      "cell_type": "code",
      "source": [
        "import random\n",
        "\n",
        "def is_prime(n):\n",
        "    if n < 2:\n",
        "        return False\n",
        "    for i in range(2, int(n**0.5) + 1):\n",
        "        if n % i == 0:\n",
        "            return False\n",
        "    return True\n",
        "\n",
        "random_numbers = random.sample(range(100, 901), 100)\n",
        "print(\"Random numbers:\", random_numbers)\n",
        "\n",
        "# Count and print odd numbers\n",
        "odd_numbers = [num for num in random_numbers if num % 2 != 0]\n",
        "odd_count = len(odd_numbers)\n",
        "print(\"Odd numbers:\", odd_numbers)\n",
        "print(\"Count of odd numbers:\", odd_count)\n",
        "\n",
        "# Count and print even numbers\n",
        "even_numbers = [num for num in random_numbers if num % 2 == 0]\n",
        "even_count = len(even_numbers)\n",
        "print(\"Even numbers:\", even_numbers)\n",
        "print(\"Count of even numbers:\", even_count)\n",
        "\n",
        "# Count and print prime numbers\n",
        "prime_numbers = [num for num in random_numbers if is_prime(num)]\n",
        "prime_count = len(prime_numbers)\n",
        "print(\"Prime numbers:\", prime_numbers)\n",
        "print(\"Count of prime numbers:\", prime_count)\n"
      ],
      "metadata": {
        "colab": {
          "base_uri": "https://localhost:8080/"
        },
        "id": "09xvttbRO2ha",
        "outputId": "470645cd-357b-4188-bb91-e81dbe1d01ee"
      },
      "execution_count": null,
      "outputs": [
        {
          "output_type": "stream",
          "name": "stdout",
          "text": [
            "Random numbers: [275, 827, 234, 127, 520, 515, 611, 236, 873, 287, 746, 328, 347, 552, 185, 546, 677, 811, 541, 443, 720, 377, 535, 886, 284, 152, 491, 569, 337, 891, 259, 401, 271, 371, 501, 592, 117, 823, 394, 736, 429, 571, 254, 669, 692, 405, 562, 661, 492, 812, 689, 598, 258, 192, 313, 331, 603, 141, 591, 160, 118, 554, 799, 158, 587, 312, 335, 502, 426, 620, 888, 341, 572, 825, 734, 493, 595, 525, 406, 281, 483, 296, 782, 292, 803, 791, 434, 306, 125, 420, 471, 409, 632, 764, 103, 373, 123, 774, 505, 858]\n",
            "Odd numbers: [275, 827, 127, 515, 611, 873, 287, 347, 185, 677, 811, 541, 443, 377, 535, 491, 569, 337, 891, 259, 401, 271, 371, 501, 117, 823, 429, 571, 669, 405, 661, 689, 313, 331, 603, 141, 591, 799, 587, 335, 341, 825, 493, 595, 525, 281, 483, 803, 791, 125, 471, 409, 103, 373, 123, 505]\n",
            "Count of odd numbers: 56\n",
            "Even numbers: [234, 520, 236, 746, 328, 552, 546, 720, 886, 284, 152, 592, 394, 736, 254, 692, 562, 492, 812, 598, 258, 192, 160, 118, 554, 158, 312, 502, 426, 620, 888, 572, 734, 406, 296, 782, 292, 434, 306, 420, 632, 764, 774, 858]\n",
            "Count of even numbers: 44\n",
            "Prime numbers: [827, 127, 347, 677, 811, 541, 443, 491, 569, 337, 401, 271, 823, 571, 661, 313, 331, 587, 281, 409, 103, 373]\n",
            "Count of prime numbers: 22\n"
          ]
        }
      ]
    },
    {
      "cell_type": "markdown",
      "source": [
        "## QUESTION 7\n",
        " D is a dictionary defined as D={1:\"One\",2:\"Two\",3:\"Three\",4:\"Four\", 5:\"Five\"}. \n",
        " \n",
        " WAP to read all the keys and values from dictionary and write to the file in the given below format.\n",
        "\n",
        "Key1, Value1\n",
        "\n",
        "Key2, Value2\n",
        "\n",
        "Key3, Value3"
      ],
      "metadata": {
        "id": "IzGmB4WQPBGv"
      }
    },
    {
      "cell_type": "code",
      "source": [
        "D = {1: \"One\", 2: \"Two\", 3: \"Three\", 4: \"Four\", 5: \"Five\"}\n",
        "\n",
        "# Open the file in write mode\n",
        "with open(\"output.txt\", \"w\") as file:\n",
        "    # Iterate over the dictionary items and write to the file\n",
        "    for key, value in D.items():\n",
        "        file.write(f\"{key}, {value}\\n\")\n"
      ],
      "metadata": {
        "id": "X3YLbWP6PH_p"
      },
      "execution_count": null,
      "outputs": []
    },
    {
      "cell_type": "markdown",
      "source": [
        "## QUESTION 8\n",
        "L is a list defined as L={\"One\",\"Two\",\"Three\",\"Four\",\"Five\"}.\n",
        " WAP to count the length of reach element from a list and write to the file in the given below format:\n",
        "\n",
        "One, 3\n",
        "\n",
        "Two, 3\n",
        "\n",
        "Four, 4"
      ],
      "metadata": {
        "id": "vFtcgbKCPWGe"
      }
    },
    {
      "cell_type": "code",
      "source": [
        "L = [\"One\", \"Two\", \"Three\", \"Four\", \"Five\"]\n",
        "\n",
        "# Open the file in write mode\n",
        "with open(\"output1.txt\", \"w\") as file:\n",
        "    # Iterate over the list elements and write to the file\n",
        "    for item in L:\n",
        "        length = len(item)\n",
        "        file.write(f\"{item}, {length}\\n\")\n"
      ],
      "metadata": {
        "id": "xqMPHMSiPc-J"
      },
      "execution_count": null,
      "outputs": []
    },
    {
      "cell_type": "markdown",
      "source": [
        "## QUESTION 9\n",
        "Write to the file 100 random strings whose length between 10 and 15."
      ],
      "metadata": {
        "id": "Dp6BzF-oPpyV"
      }
    },
    {
      "cell_type": "code",
      "source": [
        "import random\n",
        "import string\n",
        "\n",
        "# Function to generate a random string with a given length\n",
        "def generate_random_string(length):\n",
        "    return ''.join(random.choices(string.ascii_letters + string.digits, k=length))\n",
        "\n",
        "# Open the file in write mode\n",
        "with open(\"output2.txt\", \"w\") as file:\n",
        "    # Generate and write 100 random strings to the file\n",
        "    for _ in range(100):\n",
        "        string_length = random.randint(10, 15)\n",
        "        random_string = generate_random_string(string_length)\n",
        "        file.write(random_string + '\\n')\n"
      ],
      "metadata": {
        "id": "WI8rh24NPxsF"
      },
      "execution_count": null,
      "outputs": []
    },
    {
      "cell_type": "markdown",
      "source": [
        "## QUESTION 10\n",
        "Write to the file all prime numbers between 600 and 800."
      ],
      "metadata": {
        "id": "W1bgJWerP1Re"
      }
    },
    {
      "cell_type": "code",
      "source": [
        "def is_prime(n):\n",
        "    if n < 2:\n",
        "        return False\n",
        "    for i in range(2, int(n**0.5) + 1):\n",
        "        if n % i == 0:\n",
        "            return False\n",
        "    return True\n",
        "\n",
        "# Open the file in write mode\n",
        "with open(\"output.txt\", \"w\") as file:\n",
        "    # Iterate over the range and write prime numbers to the file\n",
        "    for num in range(600, 801):\n",
        "        if is_prime(num):\n",
        "            file.write(str(num) + '\\n')\n"
      ],
      "metadata": {
        "id": "hcfxLzGqQDnM"
      },
      "execution_count": null,
      "outputs": []
    },
    {
      "cell_type": "markdown",
      "source": [
        "## QUESTION 11\n",
        "WAP to calculate the time taken by a program."
      ],
      "metadata": {
        "id": "O0bHc2EhQRmu"
      }
    },
    {
      "cell_type": "code",
      "source": [
        "import time\n",
        "\n",
        "# Start the timer\n",
        "start_time = time.time()\n",
        "def is_prime(n):\n",
        "    if n < 2:\n",
        "        return False\n",
        "    for i in range(2, int(n**0.5) + 1):\n",
        "        if n % i == 0:\n",
        "            return False\n",
        "    return True\n",
        "\n",
        "# Open the file in write mode\n",
        "with open(\"output.txt\", \"w\") as file:\n",
        "    # Iterate over the range and write prime numbers to the file\n",
        "    for num in range(600, 801):\n",
        "        if is_prime(num):\n",
        "            file.write(str(num) + '\\n')\n",
        "\n",
        "end_time = time.time()\n",
        "\n",
        "# Calculate the elapsed time\n",
        "elapsed_time = end_time - start_time\n",
        "\n",
        "# Print the elapsed time\n",
        "print(\"Elapsed time:\", elapsed_time, \"seconds\")\n"
      ],
      "metadata": {
        "colab": {
          "base_uri": "https://localhost:8080/"
        },
        "id": "rgmgwku0QFTR",
        "outputId": "917c08e5-d774-4e19-acdf-99a86eca0789"
      },
      "execution_count": null,
      "outputs": [
        {
          "output_type": "stream",
          "name": "stdout",
          "text": [
            "Elapsed time: 0.0019714832305908203 seconds\n"
          ]
        }
      ]
    },
    {
      "cell_type": "markdown",
      "source": [
        "## QUESTION 12\n",
        "WAP to sort following number of elements in a list, calculate time taken and plot the graph. \n",
        "\n",
        "Number of elements in list Time Taken\n",
        "\n",
        "5k  T1\n",
        "\n",
        "10k  T2\n",
        "\n",
        "15k  T3\n",
        "\n",
        "20k  T4\n",
        "\n",
        "25k  T5"
      ],
      "metadata": {
        "id": "LEfz4zyvQW2s"
      }
    },
    {
      "cell_type": "code",
      "source": [
        "import time\n",
        "import matplotlib.pyplot as plt\n",
        "\n",
        "def sort_list(n):\n",
        "    # Generate a list of random numbers\n",
        "    lst = list(range(n, 0, -1))\n",
        "\n",
        "    # Start the timer\n",
        "    start_time = time.time()\n",
        "\n",
        "    # Sort the list\n",
        "    lst.sort()\n",
        "\n",
        "    # End the timer\n",
        "    end_time = time.time()\n",
        "\n",
        "    # Calculate the elapsed time\n",
        "    elapsed_time = end_time - start_time\n",
        "\n",
        "    return elapsed_time\n",
        "\n",
        "# Define the number of elements in the list\n",
        "num_elements = [5000, 10000, 15000, 20000, 25000]\n",
        "\n",
        "# Measure the time taken for each number of elements\n",
        "time_taken = [sort_list(n) for n in num_elements]\n",
        "\n",
        "# Plot the graph\n",
        "plt.plot(num_elements, time_taken, marker='o')\n",
        "plt.xlabel('Number of Elements')\n",
        "plt.ylabel('Time Taken (seconds)')\n",
        "plt.title('Sorting Time vs Number of Elements')\n",
        "plt.grid(True)\n",
        "plt.show()\n"
      ],
      "metadata": {
        "colab": {
          "base_uri": "https://localhost:8080/",
          "height": 472
        },
        "id": "D7GcBhjXQjbT",
        "outputId": "94c34cd0-30d5-4ebc-a82d-e51951ac9241"
      },
      "execution_count": null,
      "outputs": [
        {
          "output_type": "display_data",
          "data": {
            "text/plain": [
              "<Figure size 640x480 with 1 Axes>"
            ],
            "image/png": "[encoded data removed]"
          },
          "metadata": {}
        }
      ]
    },
    {
      "cell_type": "markdown",
      "source": [
        "## QUESTION 13\n",
        " WAP to create a dictionary of student marks in five subjects and you have to find the student \n",
        " having maximum and minimum average marks."
      ],
      "metadata": {
        "id": "rtiKbCy1Qm8Y"
      }
    },
    {
      "cell_type": "code",
      "source": [
        "def calculate_average(marks):\n",
        "    total_marks = sum(marks)\n",
        "    return total_marks / len(marks)\n",
        "\n",
        "# Dictionary of student marks\n",
        "student_marks = {\n",
        "    \"John\": [85, 90, 92, 88, 95],\n",
        "    \"Emma\": [78, 92, 88, 95, 82],\n",
        "    \"Michael\": [90, 85, 80, 88, 92],\n",
        "    \"Sophia\": [92, 88, 95, 82, 78],\n",
        "    \"William\": [85, 90, 92, 88, 95]\n",
        "}\n",
        "\n",
        "# Calculate average marks for each student\n",
        "average_marks = {student: calculate_average(marks) for student, marks in student_marks.items()}\n",
        "\n",
        "# Find student with maximum and minimum average marks\n",
        "max_average_student = max(average_marks, key=average_marks.get)\n",
        "min_average_student = min(average_marks, key=average_marks.get)\n",
        "\n",
        "# Print the results\n",
        "print(\"Student with maximum average marks:\", max_average_student)\n",
        "print(\"Student with minimum average marks:\", min_average_student)\n"
      ],
      "metadata": {
        "colab": {
          "base_uri": "https://localhost:8080/"
        },
        "id": "zJlnMdWfQqy8",
        "outputId": "0bc858b0-95be-4bc9-b539-087ebbeb13ad"
      },
      "execution_count": null,
      "outputs": [
        {
          "output_type": "stream",
          "name": "stdout",
          "text": [
            "Student with maximum average marks: John\n",
            "Student with minimum average marks: Emma\n"
          ]
        }
      ]
    }
  ]
}